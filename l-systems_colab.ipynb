{
  "cells": [
    {
      "cell_type": "markdown",
      "metadata": {
        "id": "aedxh2IC_Yis"
      },
      "source": [
        "<a href=\"https://colab.research.google.com/github/IAT-ComputationalCreativity-Spring2025/Week3-Rule-Based-Systems/blob/main/l-systems_colab.ipynb\" target=\"_parent\"><img src=\"https://colab.research.google.com/assets/colab-badge.svg\" alt=\"Open In Colab\"/></a>"
      ]
    },
    {
      "cell_type": "markdown",
      "metadata": {
        "id": "5sxYjQsh_Yiu"
      },
      "source": [
        "# L-Systems (Lindenmayer Systems) Lab\n",
        "\n",
        "## Introduction\n",
        "\n",
        "L-Systems are parallel rewriting systems that were introduced by Aristid Lindenmayer in 1968. They are particularly useful for modeling plant growth and generating fractals. In this lab, we'll explore how to create various patterns using L-Systems.\n",
        "\n",
        "### Key Concepts:\n",
        "- **Axiom**: The initial state/string\n",
        "- **Production Rules**: Rules that define how to replace characters\n",
        "- **Iterations**: Number of times to apply the rules\n",
        "- **Turtle Graphics**: System for visualizing the L-System output\n",
        "\n",
        "Let's start by importing our required libraries:"
      ]
    },
    {
      "cell_type": "code",
      "execution_count": 3,
      "metadata": {
        "id": "FV1LUh6r_Yiv",
        "outputId": "1865f1fa-d08e-4a7b-9da0-4f334b8e5155",
        "colab": {
          "base_uri": "https://localhost:8080/"
        }
      },
      "outputs": [
        {
          "output_type": "stream",
          "name": "stdout",
          "text": [
            "Requirement already satisfied: ColabTurtle in /usr/local/lib/python3.11/dist-packages (2.1.0)\n"
          ]
        }
      ],
      "source": [
        "! pip install ColabTurtle"
      ]
    },
    {
      "cell_type": "code",
      "execution_count": 2,
      "metadata": {
        "id": "uRowCAl7_Yiv"
      },
      "outputs": [],
      "source": [
        "import ColabTurtle.Turtle as t\n",
        "from IPython.display import clear_output"
      ]
    },
    {
      "cell_type": "markdown",
      "metadata": {
        "id": "4K5mfBH8_Yiv"
      },
      "source": [
        "## Part 1: Basic L-System Implementation\n",
        "\n",
        "First, let's implement our core L-System functions. These will be used throughout the lab to generate and draw various patterns."
      ]
    },
    {
      "cell_type": "code",
      "execution_count": 4,
      "metadata": {
        "id": "GxeFm90K_Yiw"
      },
      "outputs": [],
      "source": [
        "def create_l_system(iterations, axiom, rules):\n",
        "    \"\"\"Generate L-System instructions based on axiom and rules.\"\"\"\n",
        "    result = axiom\n",
        "    for _ in range(iterations):\n",
        "        new_string = \"\"\n",
        "        for char in result:\n",
        "            new_string += rules.get(char, char)\n",
        "        result = new_string\n",
        "    return result\n",
        "\n",
        "def draw_l_system(instructions, angle, distance):\n",
        "    \"\"\"Draw the L-System using turtle graphics.\n",
        "\n",
        "    Parameters:\n",
        "    - instructions: string of L-System commands\n",
        "    - angle: turning angle in degrees\n",
        "    - distance: forward movement distance\n",
        "    \"\"\"\n",
        "    stack = []\n",
        "    for cmd in instructions:\n",
        "        if cmd == 'F':  # Move forward and draw\n",
        "            t.forward(distance)\n",
        "        elif cmd == 'f':  # Move forward without drawing\n",
        "            t.penup()\n",
        "            t.forward(distance)\n",
        "            t.pendown()\n",
        "        elif cmd == '+':  # Turn right\n",
        "            t.right(angle)\n",
        "        elif cmd == '-':  # Turn left\n",
        "            t.left(angle)\n",
        "        elif cmd == '[':  # Save current state\n",
        "            stack.append((t.position(), t.heading()))\n",
        "        elif cmd == ']':  # Restore previous state\n",
        "            position, heading = stack.pop()\n",
        "            t.penup()\n",
        "            t.goto(position)\n",
        "            t.setheading(heading)\n",
        "            t.pendown()\n",
        "\n",
        "def setup_turtle():\n",
        "        t.initializeTurtle()\n",
        "        t.hideturtle()\n",
        "        t.speed(13)  # Fastest speed\n",
        "        t.penup()\n",
        "        t.goto(t.window_width() // 2, t.window_height() - 50)  # Start position\n",
        "        t.pendown()\n"
      ]
    },
    {
      "cell_type": "markdown",
      "metadata": {
        "id": "hsYQKVsg_Yiw"
      },
      "source": [
        "## Exercise 1: Koch Curve\n",
        "\n",
        "The Koch curve is a classic example of a fractal pattern. Let's create it using our L-System:"
      ]
    },
    {
      "cell_type": "code",
      "execution_count": 5,
      "metadata": {
        "id": "7stUoQPd_Yiw",
        "outputId": "507b5ff3-9c22-41d3-99f9-2f95c1c3a35c",
        "colab": {
          "base_uri": "https://localhost:8080/",
          "height": 522
        }
      },
      "outputs": [
        {
          "output_type": "display_data",
          "data": {
            "text/plain": [
              "<IPython.core.display.HTML object>"
            ],
            "text/html": [
              "\n",
              "      <svg width=\"800\" height=\"500\">\n",
              "        <rect width=\"100%\" height=\"100%\" fill=\"black\"/>\n",
              "        <line x1=\"400\" y1=\"450\" x2=\"400.0\" y2=\"445.0\" stroke-linecap=\"round\" style=\"stroke:white;stroke-width:2\"/><line x1=\"400.0\" y1=\"445.0\" x2=\"405.0\" y2=\"445.0\" stroke-linecap=\"round\" style=\"stroke:white;stroke-width:2\"/><line x1=\"405.0\" y1=\"445.0\" x2=\"405.0\" y2=\"440.0\" stroke-linecap=\"round\" style=\"stroke:white;stroke-width:2\"/><line x1=\"405.0\" y1=\"440.0\" x2=\"400.0\" y2=\"440.0\" stroke-linecap=\"round\" style=\"stroke:white;stroke-width:2\"/><line x1=\"400.0\" y1=\"440.0\" x2=\"400.0\" y2=\"435.0\" stroke-linecap=\"round\" style=\"stroke:white;stroke-width:2\"/><line x1=\"400.0\" y1=\"435.0\" x2=\"405.0\" y2=\"435.0\" stroke-linecap=\"round\" style=\"stroke:white;stroke-width:2\"/><line x1=\"405.0\" y1=\"435.0\" x2=\"405.0\" y2=\"440.0\" stroke-linecap=\"round\" style=\"stroke:white;stroke-width:2\"/><line x1=\"405.0\" y1=\"440.0\" x2=\"410.0\" y2=\"440.0\" stroke-linecap=\"round\" style=\"stroke:white;stroke-width:2\"/><line x1=\"410.0\" y1=\"440.0\" x2=\"410.0\" y2=\"435.0\" stroke-linecap=\"round\" style=\"stroke:white;stroke-width:2\"/><line x1=\"410.0\" y1=\"435.0\" x2=\"415.0\" y2=\"435.0\" stroke-linecap=\"round\" style=\"stroke:white;stroke-width:2\"/><line x1=\"415.0\" y1=\"435.0\" x2=\"415.0\" y2=\"430.0\" stroke-linecap=\"round\" style=\"stroke:white;stroke-width:2\"/><line x1=\"415.0\" y1=\"430.0\" x2=\"420.0\" y2=\"430.0\" stroke-linecap=\"round\" style=\"stroke:white;stroke-width:2\"/><line x1=\"420.0\" y1=\"430.0\" x2=\"420.0\" y2=\"425.0\" stroke-linecap=\"round\" style=\"stroke:white;stroke-width:2\"/><line x1=\"420.0\" y1=\"425.0\" x2=\"415.0\" y2=\"425.0\" stroke-linecap=\"round\" style=\"stroke:white;stroke-width:2\"/><line x1=\"415.0\" y1=\"425.0\" x2=\"415.0\" y2=\"420.0\" stroke-linecap=\"round\" style=\"stroke:white;stroke-width:2\"/><line x1=\"415.0\" y1=\"420.0\" x2=\"410.0\" y2=\"420.0\" stroke-linecap=\"round\" style=\"stroke:white;stroke-width:2\"/><line x1=\"410.0\" y1=\"420.0\" x2=\"410.0\" y2=\"415.0\" stroke-linecap=\"round\" style=\"stroke:white;stroke-width:2\"/><line x1=\"410.0\" y1=\"415.0\" x2=\"405.0\" y2=\"415.0\" stroke-linecap=\"round\" style=\"stroke:white;stroke-width:2\"/><line x1=\"405.0\" y1=\"415.0\" x2=\"405.0\" y2=\"420.0\" stroke-linecap=\"round\" style=\"stroke:white;stroke-width:2\"/><line x1=\"405.0\" y1=\"420.0\" x2=\"400.0\" y2=\"420.0\" stroke-linecap=\"round\" style=\"stroke:white;stroke-width:2\"/><line x1=\"400.0\" y1=\"420.0\" x2=\"400.0\" y2=\"415.0\" stroke-linecap=\"round\" style=\"stroke:white;stroke-width:2\"/><line x1=\"400.0\" y1=\"415.0\" x2=\"405.0\" y2=\"415.0\" stroke-linecap=\"round\" style=\"stroke:white;stroke-width:2\"/><line x1=\"405.0\" y1=\"415.0\" x2=\"405.0\" y2=\"410.0\" stroke-linecap=\"round\" style=\"stroke:white;stroke-width:2\"/><line x1=\"405.0\" y1=\"410.0\" x2=\"400.0\" y2=\"410.0\" stroke-linecap=\"round\" style=\"stroke:white;stroke-width:2\"/><line x1=\"400.0\" y1=\"410.0\" x2=\"400.0\" y2=\"405.0\" stroke-linecap=\"round\" style=\"stroke:white;stroke-width:2\"/><line x1=\"400.0\" y1=\"405.0\" x2=\"405.0\" y2=\"405.0\" stroke-linecap=\"round\" style=\"stroke:white;stroke-width:2\"/><line x1=\"405.0\" y1=\"405.0\" x2=\"405.0\" y2=\"410.0\" stroke-linecap=\"round\" style=\"stroke:white;stroke-width:2\"/><line x1=\"405.0\" y1=\"410.0\" x2=\"410.0\" y2=\"410.0\" stroke-linecap=\"round\" style=\"stroke:white;stroke-width:2\"/><line x1=\"410.0\" y1=\"410.0\" x2=\"410.0\" y2=\"405.0\" stroke-linecap=\"round\" style=\"stroke:white;stroke-width:2\"/><line x1=\"410.0\" y1=\"405.0\" x2=\"415.0\" y2=\"405.0\" stroke-linecap=\"round\" style=\"stroke:white;stroke-width:2\"/><line x1=\"415.0\" y1=\"405.0\" x2=\"415.0\" y2=\"410.0\" stroke-linecap=\"round\" style=\"stroke:white;stroke-width:2\"/><line x1=\"415.0\" y1=\"410.0\" x2=\"410.0\" y2=\"410.0\" stroke-linecap=\"round\" style=\"stroke:white;stroke-width:2\"/><line x1=\"410.0\" y1=\"410.0\" x2=\"410.0\" y2=\"415.0\" stroke-linecap=\"round\" style=\"stroke:white;stroke-width:2\"/><line x1=\"410.0\" y1=\"415.0\" x2=\"415.0\" y2=\"415.0\" stroke-linecap=\"round\" style=\"stroke:white;stroke-width:2\"/><line x1=\"415.0\" y1=\"415.0\" x2=\"415.0\" y2=\"420.0\" stroke-linecap=\"round\" style=\"stroke:white;stroke-width:2\"/><line x1=\"415.0\" y1=\"420.0\" x2=\"420.0\" y2=\"420.0\" stroke-linecap=\"round\" style=\"stroke:white;stroke-width:2\"/><line x1=\"420.0\" y1=\"420.0\" x2=\"420.0\" y2=\"425.0\" stroke-linecap=\"round\" style=\"stroke:white;stroke-width:2\"/><line x1=\"420.0\" y1=\"425.0\" x2=\"425.0\" y2=\"425.0\" stroke-linecap=\"round\" style=\"stroke:white;stroke-width:2\"/><line x1=\"425.0\" y1=\"425.0\" x2=\"425.0\" y2=\"420.0\" stroke-linecap=\"round\" style=\"stroke:white;stroke-width:2\"/><line x1=\"425.0\" y1=\"420.0\" x2=\"430.0\" y2=\"420.0\" stroke-linecap=\"round\" style=\"stroke:white;stroke-width:2\"/><line x1=\"430.0\" y1=\"420.0\" x2=\"430.0\" y2=\"415.0\" stroke-linecap=\"round\" style=\"stroke:white;stroke-width:2\"/><line x1=\"430.0\" y1=\"415.0\" x2=\"435.0\" y2=\"415.0\" stroke-linecap=\"round\" style=\"stroke:white;stroke-width:2\"/><line x1=\"435.0\" y1=\"415.0\" x2=\"435.0\" y2=\"410.0\" stroke-linecap=\"round\" style=\"stroke:white;stroke-width:2\"/><line x1=\"435.0\" y1=\"410.0\" x2=\"430.0\" y2=\"410.0\" stroke-linecap=\"round\" style=\"stroke:white;stroke-width:2\"/><line x1=\"430.0\" y1=\"410.0\" x2=\"430.0\" y2=\"405.0\" stroke-linecap=\"round\" style=\"stroke:white;stroke-width:2\"/><line x1=\"430.0\" y1=\"405.0\" x2=\"435.0\" y2=\"405.0\" stroke-linecap=\"round\" style=\"stroke:white;stroke-width:2\"/><line x1=\"435.0\" y1=\"405.0\" x2=\"435.0\" y2=\"410.0\" stroke-linecap=\"round\" style=\"stroke:white;stroke-width:2\"/><line x1=\"435.0\" y1=\"410.0\" x2=\"440.0\" y2=\"410.0\" stroke-linecap=\"round\" style=\"stroke:white;stroke-width:2\"/><line x1=\"440.0\" y1=\"410.0\" x2=\"440.0\" y2=\"405.0\" stroke-linecap=\"round\" style=\"stroke:white;stroke-width:2\"/><line x1=\"440.0\" y1=\"405.0\" x2=\"445.0\" y2=\"405.0\" stroke-linecap=\"round\" style=\"stroke:white;stroke-width:2\"/><line x1=\"445.0\" y1=\"405.0\" x2=\"445.0\" y2=\"400.0\" stroke-linecap=\"round\" style=\"stroke:white;stroke-width:2\"/><line x1=\"445.0\" y1=\"400.0\" x2=\"450.0\" y2=\"400.0\" stroke-linecap=\"round\" style=\"stroke:white;stroke-width:2\"/><line x1=\"450.0\" y1=\"400.0\" x2=\"450.0\" y2=\"395.0\" stroke-linecap=\"round\" style=\"stroke:white;stroke-width:2\"/><line x1=\"450.0\" y1=\"395.0\" x2=\"445.0\" y2=\"395.0\" stroke-linecap=\"round\" style=\"stroke:white;stroke-width:2\"/><line x1=\"445.0\" y1=\"395.0\" x2=\"445.0\" y2=\"390.0\" stroke-linecap=\"round\" style=\"stroke:white;stroke-width:2\"/><line x1=\"445.0\" y1=\"390.0\" x2=\"450.0\" y2=\"390.0\" stroke-linecap=\"round\" style=\"stroke:white;stroke-width:2\"/><line x1=\"450.0\" y1=\"390.0\" x2=\"450.0\" y2=\"395.0\" stroke-linecap=\"round\" style=\"stroke:white;stroke-width:2\"/><line x1=\"450.0\" y1=\"395.0\" x2=\"455.0\" y2=\"395.0\" stroke-linecap=\"round\" style=\"stroke:white;stroke-width:2\"/><line x1=\"455.0\" y1=\"395.0\" x2=\"455.0\" y2=\"390.0\" stroke-linecap=\"round\" style=\"stroke:white;stroke-width:2\"/><line x1=\"455.0\" y1=\"390.0\" x2=\"460.0\" y2=\"390.0\" stroke-linecap=\"round\" style=\"stroke:white;stroke-width:2\"/><line x1=\"460.0\" y1=\"390.0\" x2=\"460.0\" y2=\"385.0\" stroke-linecap=\"round\" style=\"stroke:white;stroke-width:2\"/><line x1=\"460.0\" y1=\"385.0\" x2=\"465.0\" y2=\"385.0\" stroke-linecap=\"round\" style=\"stroke:white;stroke-width:2\"/><line x1=\"465.0\" y1=\"385.0\" x2=\"465.0\" y2=\"380.0\" stroke-linecap=\"round\" style=\"stroke:white;stroke-width:2\"/><line x1=\"465.0\" y1=\"380.0\" x2=\"460.0\" y2=\"380.0\" stroke-linecap=\"round\" style=\"stroke:white;stroke-width:2\"/><line x1=\"460.0\" y1=\"380.0\" x2=\"460.0\" y2=\"375.0\" stroke-linecap=\"round\" style=\"stroke:white;stroke-width:2\"/><line x1=\"460.0\" y1=\"375.0\" x2=\"455.0\" y2=\"375.0\" stroke-linecap=\"round\" style=\"stroke:white;stroke-width:2\"/><line x1=\"455.0\" y1=\"375.0\" x2=\"455.0\" y2=\"370.0\" stroke-linecap=\"round\" style=\"stroke:white;stroke-width:2\"/><line x1=\"455.0\" y1=\"370.0\" x2=\"450.0\" y2=\"370.0\" stroke-linecap=\"round\" style=\"stroke:white;stroke-width:2\"/><line x1=\"450.0\" y1=\"370.0\" x2=\"450.0\" y2=\"375.0\" stroke-linecap=\"round\" style=\"stroke:white;stroke-width:2\"/><line x1=\"450.0\" y1=\"375.0\" x2=\"445.0\" y2=\"375.0\" stroke-linecap=\"round\" style=\"stroke:white;stroke-width:2\"/><line x1=\"445.0\" y1=\"375.0\" x2=\"445.0\" y2=\"370.0\" stroke-linecap=\"round\" style=\"stroke:white;stroke-width:2\"/><line x1=\"445.0\" y1=\"370.0\" x2=\"450.0\" y2=\"370.0\" stroke-linecap=\"round\" style=\"stroke:white;stroke-width:2\"/><line x1=\"450.0\" y1=\"370.0\" x2=\"450.0\" y2=\"365.0\" stroke-linecap=\"round\" style=\"stroke:white;stroke-width:2\"/><line x1=\"450.0\" y1=\"365.0\" x2=\"445.0\" y2=\"365.0\" stroke-linecap=\"round\" style=\"stroke:white;stroke-width:2\"/><line x1=\"445.0\" y1=\"365.0\" x2=\"445.0\" y2=\"360.0\" stroke-linecap=\"round\" style=\"stroke:white;stroke-width:2\"/><line x1=\"445.0\" y1=\"360.0\" x2=\"440.0\" y2=\"360.0\" stroke-linecap=\"round\" style=\"stroke:white;stroke-width:2\"/><line x1=\"440.0\" y1=\"360.0\" x2=\"440.0\" y2=\"355.0\" stroke-linecap=\"round\" style=\"stroke:white;stroke-width:2\"/><line x1=\"440.0\" y1=\"355.0\" x2=\"435.0\" y2=\"355.0\" stroke-linecap=\"round\" style=\"stroke:white;stroke-width:2\"/><line x1=\"435.0\" y1=\"355.0\" x2=\"435.0\" y2=\"360.0\" stroke-linecap=\"round\" style=\"stroke:white;stroke-width:2\"/><line x1=\"435.0\" y1=\"360.0\" x2=\"430.0\" y2=\"360.0\" stroke-linecap=\"round\" style=\"stroke:white;stroke-width:2\"/><line x1=\"430.0\" y1=\"360.0\" x2=\"430.0\" y2=\"355.0\" stroke-linecap=\"round\" style=\"stroke:white;stroke-width:2\"/><line x1=\"430.0\" y1=\"355.0\" x2=\"435.0\" y2=\"355.0\" stroke-linecap=\"round\" style=\"stroke:white;stroke-width:2\"/><line x1=\"435.0\" y1=\"355.0\" x2=\"435.0\" y2=\"350.0\" stroke-linecap=\"round\" style=\"stroke:white;stroke-width:2\"/><line x1=\"435.0\" y1=\"350.0\" x2=\"430.0\" y2=\"350.0\" stroke-linecap=\"round\" style=\"stroke:white;stroke-width:2\"/><line x1=\"430.0\" y1=\"350.0\" x2=\"430.0\" y2=\"345.0\" stroke-linecap=\"round\" style=\"stroke:white;stroke-width:2\"/><line x1=\"430.0\" y1=\"345.0\" x2=\"425.0\" y2=\"345.0\" stroke-linecap=\"round\" style=\"stroke:white;stroke-width:2\"/><line x1=\"425.0\" y1=\"345.0\" x2=\"425.0\" y2=\"340.0\" stroke-linecap=\"round\" style=\"stroke:white;stroke-width:2\"/><line x1=\"425.0\" y1=\"340.0\" x2=\"420.0\" y2=\"340.0\" stroke-linecap=\"round\" style=\"stroke:white;stroke-width:2\"/><line x1=\"420.0\" y1=\"340.0\" x2=\"420.0\" y2=\"345.0\" stroke-linecap=\"round\" style=\"stroke:white;stroke-width:2\"/><line x1=\"420.0\" y1=\"345.0\" x2=\"415.0\" y2=\"345.0\" stroke-linecap=\"round\" style=\"stroke:white;stroke-width:2\"/><line x1=\"415.0\" y1=\"345.0\" x2=\"415.0\" y2=\"350.0\" stroke-linecap=\"round\" style=\"stroke:white;stroke-width:2\"/><line x1=\"415.0\" y1=\"350.0\" x2=\"410.0\" y2=\"350.0\" stroke-linecap=\"round\" style=\"stroke:white;stroke-width:2\"/><line x1=\"410.0\" y1=\"350.0\" x2=\"410.0\" y2=\"355.0\" stroke-linecap=\"round\" style=\"stroke:white;stroke-width:2\"/><line x1=\"410.0\" y1=\"355.0\" x2=\"415.0\" y2=\"355.0\" stroke-linecap=\"round\" style=\"stroke:white;stroke-width:2\"/><line x1=\"415.0\" y1=\"355.0\" x2=\"415.0\" y2=\"360.0\" stroke-linecap=\"round\" style=\"stroke:white;stroke-width:2\"/><line x1=\"415.0\" y1=\"360.0\" x2=\"410.0\" y2=\"360.0\" stroke-linecap=\"round\" style=\"stroke:white;stroke-width:2\"/><line x1=\"410.0\" y1=\"360.0\" x2=\"410.0\" y2=\"355.0\" stroke-linecap=\"round\" style=\"stroke:white;stroke-width:2\"/><line x1=\"410.0\" y1=\"355.0\" x2=\"405.0\" y2=\"355.0\" stroke-linecap=\"round\" style=\"stroke:white;stroke-width:2\"/><line x1=\"405.0\" y1=\"355.0\" x2=\"405.0\" y2=\"360.0\" stroke-linecap=\"round\" style=\"stroke:white;stroke-width:2\"/><line x1=\"405.0\" y1=\"360.0\" x2=\"400.0\" y2=\"360.0\" stroke-linecap=\"round\" style=\"stroke:white;stroke-width:2\"/><line x1=\"400.0\" y1=\"360.0\" x2=\"400.0\" y2=\"355.0\" stroke-linecap=\"round\" style=\"stroke:white;stroke-width:2\"/><line x1=\"400.0\" y1=\"355.0\" x2=\"405.0\" y2=\"355.0\" stroke-linecap=\"round\" style=\"stroke:white;stroke-width:2\"/><line x1=\"405.0\" y1=\"355.0\" x2=\"405.0\" y2=\"350.0\" stroke-linecap=\"round\" style=\"stroke:white;stroke-width:2\"/><line x1=\"405.0\" y1=\"350.0\" x2=\"400.0\" y2=\"350.0\" stroke-linecap=\"round\" style=\"stroke:white;stroke-width:2\"/><line x1=\"400.0\" y1=\"350.0\" x2=\"400.0\" y2=\"345.0\" stroke-linecap=\"round\" style=\"stroke:white;stroke-width:2\"/><line x1=\"400.0\" y1=\"345.0\" x2=\"405.0\" y2=\"345.0\" stroke-linecap=\"round\" style=\"stroke:white;stroke-width:2\"/><line x1=\"405.0\" y1=\"345.0\" x2=\"405.0\" y2=\"350.0\" stroke-linecap=\"round\" style=\"stroke:white;stroke-width:2\"/><line x1=\"405.0\" y1=\"350.0\" x2=\"410.0\" y2=\"350.0\" stroke-linecap=\"round\" style=\"stroke:white;stroke-width:2\"/><line x1=\"410.0\" y1=\"350.0\" x2=\"410.0\" y2=\"345.0\" stroke-linecap=\"round\" style=\"stroke:white;stroke-width:2\"/><line x1=\"410.0\" y1=\"345.0\" x2=\"415.0\" y2=\"345.0\" stroke-linecap=\"round\" style=\"stroke:white;stroke-width:2\"/><line x1=\"415.0\" y1=\"345.0\" x2=\"415.0\" y2=\"340.0\" stroke-linecap=\"round\" style=\"stroke:white;stroke-width:2\"/><line x1=\"415.0\" y1=\"340.0\" x2=\"420.0\" y2=\"340.0\" stroke-linecap=\"round\" style=\"stroke:white;stroke-width:2\"/><line x1=\"420.0\" y1=\"340.0\" x2=\"420.0\" y2=\"335.0\" stroke-linecap=\"round\" style=\"stroke:white;stroke-width:2\"/><line x1=\"420.0\" y1=\"335.0\" x2=\"415.0\" y2=\"335.0\" stroke-linecap=\"round\" style=\"stroke:white;stroke-width:2\"/><line x1=\"415.0\" y1=\"335.0\" x2=\"415.0\" y2=\"330.0\" stroke-linecap=\"round\" style=\"stroke:white;stroke-width:2\"/><line x1=\"415.0\" y1=\"330.0\" x2=\"410.0\" y2=\"330.0\" stroke-linecap=\"round\" style=\"stroke:white;stroke-width:2\"/><line x1=\"410.0\" y1=\"330.0\" x2=\"410.0\" y2=\"325.0\" stroke-linecap=\"round\" style=\"stroke:white;stroke-width:2\"/><line x1=\"410.0\" y1=\"325.0\" x2=\"405.0\" y2=\"325.0\" stroke-linecap=\"round\" style=\"stroke:white;stroke-width:2\"/><line x1=\"405.0\" y1=\"325.0\" x2=\"405.0\" y2=\"330.0\" stroke-linecap=\"round\" style=\"stroke:white;stroke-width:2\"/><line x1=\"405.0\" y1=\"330.0\" x2=\"400.0\" y2=\"330.0\" stroke-linecap=\"round\" style=\"stroke:white;stroke-width:2\"/><line x1=\"400.0\" y1=\"330.0\" x2=\"400.0\" y2=\"325.0\" stroke-linecap=\"round\" style=\"stroke:white;stroke-width:2\"/><line x1=\"400.0\" y1=\"325.0\" x2=\"405.0\" y2=\"325.0\" stroke-linecap=\"round\" style=\"stroke:white;stroke-width:2\"/><line x1=\"405.0\" y1=\"325.0\" x2=\"405.0\" y2=\"320.0\" stroke-linecap=\"round\" style=\"stroke:white;stroke-width:2\"/><line x1=\"405.0\" y1=\"320.0\" x2=\"400.0\" y2=\"320.0\" stroke-linecap=\"round\" style=\"stroke:white;stroke-width:2\"/><line x1=\"400.0\" y1=\"320.0\" x2=\"400.0\" y2=\"315.0\" stroke-linecap=\"round\" style=\"stroke:white;stroke-width:2\"/>\n",
              "        <g visibility=hidden transform=\"rotate(360,400.0,315.0) translate(382.0, 297.0)\">\n",
              "<path style=\" stroke:none;fill-rule:evenodd;fill:white;fill-opacity:1;\" d=\"M 18.214844 0.632812 C 16.109375 1.800781 15.011719 4.074219 15.074219 7.132812 L 15.085938 7.652344 L 14.785156 7.496094 C 13.476562 6.824219 11.957031 6.671875 10.40625 7.066406 C 8.46875 7.550781 6.515625 9.15625 4.394531 11.992188 C 3.0625 13.777344 2.679688 14.636719 3.042969 15.027344 L 3.15625 15.152344 L 3.519531 15.152344 C 4.238281 15.152344 4.828125 14.886719 8.1875 13.039062 C 9.386719 12.378906 10.371094 11.839844 10.378906 11.839844 C 10.386719 11.839844 10.355469 11.929688 10.304688 12.035156 C 9.832031 13.09375 9.257812 14.820312 8.96875 16.078125 C 7.914062 20.652344 8.617188 24.53125 11.070312 27.660156 C 11.351562 28.015625 11.363281 27.914062 10.972656 28.382812 C 8.925781 30.84375 7.945312 33.28125 8.238281 35.1875 C 8.289062 35.527344 8.28125 35.523438 8.917969 35.523438 C 10.941406 35.523438 13.074219 34.207031 15.136719 31.6875 C 15.359375 31.417969 15.328125 31.425781 15.5625 31.574219 C 16.292969 32.042969 18.023438 32.964844 18.175781 32.964844 C 18.335938 32.964844 19.941406 32.210938 20.828125 31.71875 C 20.996094 31.625 21.136719 31.554688 21.136719 31.558594 C 21.203125 31.664062 21.898438 32.414062 22.222656 32.730469 C 23.835938 34.300781 25.5625 35.132812 27.582031 35.300781 C 27.90625 35.328125 27.9375 35.308594 28.007812 34.984375 C 28.382812 33.242188 27.625 30.925781 25.863281 28.425781 L 25.542969 27.96875 L 25.699219 27.785156 C 28.945312 23.960938 29.132812 18.699219 26.257812 11.96875 L 26.207031 11.84375 L 27.945312 12.703125 C 31.53125 14.476562 32.316406 14.800781 33.03125 14.800781 C 33.976562 14.800781 33.78125 13.9375 32.472656 12.292969 C 28.519531 7.355469 25.394531 5.925781 21.921875 7.472656 L 21.558594 7.636719 L 21.578125 7.542969 C 21.699219 6.992188 21.761719 5.742188 21.699219 5.164062 C 21.496094 3.296875 20.664062 1.964844 19.003906 0.855469 C 18.480469 0.503906 18.457031 0.5 18.214844 0.632812\"/>\n",
              "</g>\n",
              "      </svg>\n",
              "    "
            ]
          },
          "metadata": {}
        }
      ],
      "source": [
        "# Koch curve parameters\n",
        "koch_axiom = \"F\"\n",
        "koch_rules = {\"F\": \"F+F-F-F+F\"}\n",
        "koch_iterations = 3\n",
        "koch_angle = 90\n",
        "\n",
        "# Generate and draw\n",
        "setup_turtle()\n",
        "t.pensize(2)\n",
        "koch_instructions = create_l_system(koch_iterations, koch_axiom, koch_rules)\n",
        "draw_l_system(koch_instructions, koch_angle, 5)"
      ]
    },
    {
      "cell_type": "markdown",
      "metadata": {
        "id": "SOA6WuzJ_Yiw"
      },
      "source": [
        "### Exercise 1 Tasks:\n",
        "1. Try modifying the number of iterations (start with small numbers like 2-4)\n",
        "2. Change the angle to 60 degrees and observe the difference\n",
        "3. Modify the rules to create your own variation\n",
        "4. Try changing the distance parameter\n",
        "\n",
        "Note: Be careful with high iteration numbers as they can create very complex patterns!"
      ]
    },
    {
      "cell_type": "markdown",
      "metadata": {
        "id": "o8bu6pu9_Yiw"
      },
      "source": [
        "## Exercise 2: Plant Generation\n",
        "\n",
        "Now let's create a more complex L-System that generates plant-like structures. This system uses brackets to create branches:"
      ]
    },
    {
      "cell_type": "code",
      "execution_count": 6,
      "metadata": {
        "id": "WlFCPuBA_Yiw",
        "outputId": "6f1b364d-3b54-41ae-b8c4-54a514d314b2",
        "colab": {
          "base_uri": "https://localhost:8080/",
          "height": 522
        }
      },
      "outputs": [
        {
          "output_type": "display_data",
          "data": {
            "text/plain": [
              "<IPython.core.display.HTML object>"
            ],
            "text/html": [
              "\n",
              "      <svg width=\"800\" height=\"500\">\n",
              "        <rect width=\"100%\" height=\"100%\" fill=\"black\"/>\n",
              "        <line x1=\"400\" y1=\"450\" x2=\"400.0\" y2=\"440.0\" stroke-linecap=\"round\" style=\"stroke:white;stroke-width:1\"/><line x1=\"400.0\" y1=\"440.0\" x2=\"400.0\" y2=\"430.0\" stroke-linecap=\"round\" style=\"stroke:white;stroke-width:1\"/><line x1=\"400.0\" y1=\"430.0\" x2=\"400.0\" y2=\"420.0\" stroke-linecap=\"round\" style=\"stroke:white;stroke-width:1\"/><line x1=\"400.0\" y1=\"420.0\" x2=\"400.0\" y2=\"410.0\" stroke-linecap=\"round\" style=\"stroke:white;stroke-width:1\"/><line x1=\"400.0\" y1=\"410.0\" x2=\"400.0\" y2=\"400.0\" stroke-linecap=\"round\" style=\"stroke:white;stroke-width:1\"/><line x1=\"400.0\" y1=\"400.0\" x2=\"400.0\" y2=\"390.0\" stroke-linecap=\"round\" style=\"stroke:white;stroke-width:1\"/><line x1=\"400.0\" y1=\"390.0\" x2=\"400.0\" y2=\"380.0\" stroke-linecap=\"round\" style=\"stroke:white;stroke-width:1\"/><line x1=\"400.0\" y1=\"380.0\" x2=\"400.0\" y2=\"370.0\" stroke-linecap=\"round\" style=\"stroke:white;stroke-width:1\"/><line x1=\"400.0\" y1=\"370.0\" x2=\"400.0\" y2=\"360.0\" stroke-linecap=\"round\" style=\"stroke:white;stroke-width:1\"/><line x1=\"400.0\" y1=\"360.0\" x2=\"405.0\" y2=\"351.34\" stroke-linecap=\"round\" style=\"stroke:white;stroke-width:1\"/><line x1=\"405.0\" y1=\"351.34\" x2=\"410.0\" y2=\"342.68\" stroke-linecap=\"round\" style=\"stroke:white;stroke-width:1\"/><line x1=\"410.0\" y1=\"342.68\" x2=\"415.0\" y2=\"334.02\" stroke-linecap=\"round\" style=\"stroke:white;stroke-width:1\"/><line x1=\"415.0\" y1=\"334.02\" x2=\"423.66\" y2=\"329.02\" stroke-linecap=\"round\" style=\"stroke:white;stroke-width:1\"/><line x1=\"423.66\" y1=\"329.02\" x2=\"432.32\" y2=\"324.02\" stroke-linecap=\"round\" style=\"stroke:white;stroke-width:1\"/><line x1=\"432.32\" y1=\"324.02\" x2=\"442.32\" y2=\"324.02\" stroke-linecap=\"round\" style=\"stroke:white;stroke-width:1\"/><line x1=\"415.0\" y1=\"334.02\" x2=\"420.0\" y2=\"325.36\" stroke-linecap=\"round\" style=\"stroke:white;stroke-width:1\"/><line x1=\"420.0\" y1=\"325.36\" x2=\"425.0\" y2=\"316.7\" stroke-linecap=\"round\" style=\"stroke:white;stroke-width:1\"/><line x1=\"425.0\" y1=\"316.7\" x2=\"433.66\" y2=\"311.7\" stroke-linecap=\"round\" style=\"stroke:white;stroke-width:1\"/><line x1=\"415.0\" y1=\"334.02\" x2=\"420.0\" y2=\"325.36\" stroke-linecap=\"round\" style=\"stroke:white;stroke-width:1\"/><line x1=\"420.0\" y1=\"325.36\" x2=\"425.0\" y2=\"316.7\" stroke-linecap=\"round\" style=\"stroke:white;stroke-width:1\"/><line x1=\"425.0\" y1=\"316.7\" x2=\"430.0\" y2=\"308.04\" stroke-linecap=\"round\" style=\"stroke:white;stroke-width:1\"/><line x1=\"430.0\" y1=\"308.04\" x2=\"438.66\" y2=\"303.04\" stroke-linecap=\"round\" style=\"stroke:white;stroke-width:1\"/><line x1=\"438.66\" y1=\"303.04\" x2=\"447.32\" y2=\"298.04\" stroke-linecap=\"round\" style=\"stroke:white;stroke-width:1\"/><line x1=\"447.32\" y1=\"298.04\" x2=\"455.98\" y2=\"293.04\" stroke-linecap=\"round\" style=\"stroke:white;stroke-width:1\"/><line x1=\"455.98\" y1=\"293.04\" x2=\"464.64\" y2=\"288.04\" stroke-linecap=\"round\" style=\"stroke:white;stroke-width:1\"/><line x1=\"464.64\" y1=\"288.04\" x2=\"473.3\" y2=\"283.04\" stroke-linecap=\"round\" style=\"stroke:white;stroke-width:1\"/><line x1=\"473.3\" y1=\"283.04\" x2=\"483.3\" y2=\"283.04\" stroke-linecap=\"round\" style=\"stroke:white;stroke-width:1\"/><line x1=\"430.0\" y1=\"308.04\" x2=\"438.66\" y2=\"303.04\" stroke-linecap=\"round\" style=\"stroke:white;stroke-width:1\"/><line x1=\"438.66\" y1=\"303.04\" x2=\"447.32\" y2=\"298.04\" stroke-linecap=\"round\" style=\"stroke:white;stroke-width:1\"/><line x1=\"447.32\" y1=\"298.04\" x2=\"457.32\" y2=\"298.04\" stroke-linecap=\"round\" style=\"stroke:white;stroke-width:1\"/><line x1=\"400.0\" y1=\"360.0\" x2=\"400.0\" y2=\"350.0\" stroke-linecap=\"round\" style=\"stroke:white;stroke-width:1\"/><line x1=\"400.0\" y1=\"350.0\" x2=\"400.0\" y2=\"340.0\" stroke-linecap=\"round\" style=\"stroke:white;stroke-width:1\"/><line x1=\"400.0\" y1=\"340.0\" x2=\"400.0\" y2=\"330.0\" stroke-linecap=\"round\" style=\"stroke:white;stroke-width:1\"/><line x1=\"400.0\" y1=\"330.0\" x2=\"405.0\" y2=\"321.34\" stroke-linecap=\"round\" style=\"stroke:white;stroke-width:1\"/><line x1=\"405.0\" y1=\"321.34\" x2=\"410.0\" y2=\"312.68\" stroke-linecap=\"round\" style=\"stroke:white;stroke-width:1\"/><line x1=\"410.0\" y1=\"312.68\" x2=\"418.66\" y2=\"307.68\" stroke-linecap=\"round\" style=\"stroke:white;stroke-width:1\"/><line x1=\"400.0\" y1=\"330.0\" x2=\"400.0\" y2=\"320.0\" stroke-linecap=\"round\" style=\"stroke:white;stroke-width:1\"/><line x1=\"400.0\" y1=\"320.0\" x2=\"400.0\" y2=\"310.0\" stroke-linecap=\"round\" style=\"stroke:white;stroke-width:1\"/><line x1=\"400.0\" y1=\"310.0\" x2=\"405.0\" y2=\"301.34\" stroke-linecap=\"round\" style=\"stroke:white;stroke-width:1\"/><line x1=\"400.0\" y1=\"330.0\" x2=\"400.0\" y2=\"320.0\" stroke-linecap=\"round\" style=\"stroke:white;stroke-width:1\"/><line x1=\"400.0\" y1=\"320.0\" x2=\"400.0\" y2=\"310.0\" stroke-linecap=\"round\" style=\"stroke:white;stroke-width:1\"/><line x1=\"400.0\" y1=\"310.0\" x2=\"400.0\" y2=\"300.0\" stroke-linecap=\"round\" style=\"stroke:white;stroke-width:1\"/><line x1=\"400.0\" y1=\"300.0\" x2=\"405.0\" y2=\"291.34\" stroke-linecap=\"round\" style=\"stroke:white;stroke-width:1\"/><line x1=\"405.0\" y1=\"291.34\" x2=\"410.0\" y2=\"282.68\" stroke-linecap=\"round\" style=\"stroke:white;stroke-width:1\"/><line x1=\"410.0\" y1=\"282.68\" x2=\"415.0\" y2=\"274.02\" stroke-linecap=\"round\" style=\"stroke:white;stroke-width:1\"/><line x1=\"415.0\" y1=\"274.02\" x2=\"420.0\" y2=\"265.36\" stroke-linecap=\"round\" style=\"stroke:white;stroke-width:1\"/><line x1=\"420.0\" y1=\"265.36\" x2=\"425.0\" y2=\"256.7\" stroke-linecap=\"round\" style=\"stroke:white;stroke-width:1\"/><line x1=\"425.0\" y1=\"256.7\" x2=\"433.66\" y2=\"251.7\" stroke-linecap=\"round\" style=\"stroke:white;stroke-width:1\"/><line x1=\"400.0\" y1=\"300.0\" x2=\"405.0\" y2=\"291.34\" stroke-linecap=\"round\" style=\"stroke:white;stroke-width:1\"/><line x1=\"405.0\" y1=\"291.34\" x2=\"410.0\" y2=\"282.68\" stroke-linecap=\"round\" style=\"stroke:white;stroke-width:1\"/><line x1=\"410.0\" y1=\"282.68\" x2=\"418.66\" y2=\"277.68\" stroke-linecap=\"round\" style=\"stroke:white;stroke-width:1\"/><line x1=\"400.0\" y1=\"360.0\" x2=\"400.0\" y2=\"350.0\" stroke-linecap=\"round\" style=\"stroke:white;stroke-width:1\"/><line x1=\"400.0\" y1=\"350.0\" x2=\"400.0\" y2=\"340.0\" stroke-linecap=\"round\" style=\"stroke:white;stroke-width:1\"/><line x1=\"400.0\" y1=\"340.0\" x2=\"400.0\" y2=\"330.0\" stroke-linecap=\"round\" style=\"stroke:white;stroke-width:1\"/><line x1=\"400.0\" y1=\"330.0\" x2=\"400.0\" y2=\"320.0\" stroke-linecap=\"round\" style=\"stroke:white;stroke-width:1\"/><line x1=\"400.0\" y1=\"320.0\" x2=\"400.0\" y2=\"310.0\" stroke-linecap=\"round\" style=\"stroke:white;stroke-width:1\"/><line x1=\"400.0\" y1=\"310.0\" x2=\"400.0\" y2=\"300.0\" stroke-linecap=\"round\" style=\"stroke:white;stroke-width:1\"/><line x1=\"400.0\" y1=\"300.0\" x2=\"400.0\" y2=\"290.0\" stroke-linecap=\"round\" style=\"stroke:white;stroke-width:1\"/><line x1=\"400.0\" y1=\"290.0\" x2=\"400.0\" y2=\"280.0\" stroke-linecap=\"round\" style=\"stroke:white;stroke-width:1\"/><line x1=\"400.0\" y1=\"280.0\" x2=\"400.0\" y2=\"270.0\" stroke-linecap=\"round\" style=\"stroke:white;stroke-width:1\"/><line x1=\"400.0\" y1=\"270.0\" x2=\"405.0\" y2=\"261.34\" stroke-linecap=\"round\" style=\"stroke:white;stroke-width:1\"/><line x1=\"405.0\" y1=\"261.34\" x2=\"410.0\" y2=\"252.68\" stroke-linecap=\"round\" style=\"stroke:white;stroke-width:1\"/><line x1=\"410.0\" y1=\"252.68\" x2=\"415.0\" y2=\"244.02\" stroke-linecap=\"round\" style=\"stroke:white;stroke-width:1\"/><line x1=\"415.0\" y1=\"244.02\" x2=\"420.0\" y2=\"235.36\" stroke-linecap=\"round\" style=\"stroke:white;stroke-width:1\"/><line x1=\"420.0\" y1=\"235.36\" x2=\"425.0\" y2=\"226.7\" stroke-linecap=\"round\" style=\"stroke:white;stroke-width:1\"/><line x1=\"425.0\" y1=\"226.7\" x2=\"430.0\" y2=\"218.04\" stroke-linecap=\"round\" style=\"stroke:white;stroke-width:1\"/><line x1=\"430.0\" y1=\"218.04\" x2=\"435.0\" y2=\"209.38\" stroke-linecap=\"round\" style=\"stroke:white;stroke-width:1\"/><line x1=\"435.0\" y1=\"209.38\" x2=\"440.0\" y2=\"200.72\" stroke-linecap=\"round\" style=\"stroke:white;stroke-width:1\"/><line x1=\"440.0\" y1=\"200.72\" x2=\"445.0\" y2=\"192.06\" stroke-linecap=\"round\" style=\"stroke:white;stroke-width:1\"/><line x1=\"445.0\" y1=\"192.06\" x2=\"450.0\" y2=\"183.4\" stroke-linecap=\"round\" style=\"stroke:white;stroke-width:1\"/><line x1=\"450.0\" y1=\"183.4\" x2=\"455.0\" y2=\"174.74\" stroke-linecap=\"round\" style=\"stroke:white;stroke-width:1\"/><line x1=\"455.0\" y1=\"174.74\" x2=\"460.0\" y2=\"166.08\" stroke-linecap=\"round\" style=\"stroke:white;stroke-width:1\"/><line x1=\"460.0\" y1=\"166.08\" x2=\"468.66\" y2=\"161.08\" stroke-linecap=\"round\" style=\"stroke:white;stroke-width:1\"/><line x1=\"468.66\" y1=\"161.08\" x2=\"477.32\" y2=\"156.08\" stroke-linecap=\"round\" style=\"stroke:white;stroke-width:1\"/><line x1=\"477.32\" y1=\"156.08\" x2=\"487.32\" y2=\"156.08\" stroke-linecap=\"round\" style=\"stroke:white;stroke-width:1\"/><line x1=\"460.0\" y1=\"166.08\" x2=\"465.0\" y2=\"157.42\" stroke-linecap=\"round\" style=\"stroke:white;stroke-width:1\"/><line x1=\"465.0\" y1=\"157.42\" x2=\"470.0\" y2=\"148.76\" stroke-linecap=\"round\" style=\"stroke:white;stroke-width:1\"/><line x1=\"470.0\" y1=\"148.76\" x2=\"478.66\" y2=\"143.76\" stroke-linecap=\"round\" style=\"stroke:white;stroke-width:1\"/><line x1=\"460.0\" y1=\"166.08\" x2=\"465.0\" y2=\"157.42\" stroke-linecap=\"round\" style=\"stroke:white;stroke-width:1\"/><line x1=\"465.0\" y1=\"157.42\" x2=\"470.0\" y2=\"148.76\" stroke-linecap=\"round\" style=\"stroke:white;stroke-width:1\"/><line x1=\"470.0\" y1=\"148.76\" x2=\"475.0\" y2=\"140.1\" stroke-linecap=\"round\" style=\"stroke:white;stroke-width:1\"/><line x1=\"475.0\" y1=\"140.1\" x2=\"483.66\" y2=\"135.1\" stroke-linecap=\"round\" style=\"stroke:white;stroke-width:1\"/><line x1=\"483.66\" y1=\"135.1\" x2=\"492.32\" y2=\"130.1\" stroke-linecap=\"round\" style=\"stroke:white;stroke-width:1\"/><line x1=\"492.32\" y1=\"130.1\" x2=\"500.98\" y2=\"125.1\" stroke-linecap=\"round\" style=\"stroke:white;stroke-width:1\"/><line x1=\"500.98\" y1=\"125.1\" x2=\"509.64\" y2=\"120.1\" stroke-linecap=\"round\" style=\"stroke:white;stroke-width:1\"/><line x1=\"509.64\" y1=\"120.1\" x2=\"518.3\" y2=\"115.1\" stroke-linecap=\"round\" style=\"stroke:white;stroke-width:1\"/><line x1=\"518.3\" y1=\"115.1\" x2=\"528.3\" y2=\"115.1\" stroke-linecap=\"round\" style=\"stroke:white;stroke-width:1\"/><line x1=\"475.0\" y1=\"140.1\" x2=\"483.66\" y2=\"135.1\" stroke-linecap=\"round\" style=\"stroke:white;stroke-width:1\"/><line x1=\"483.66\" y1=\"135.1\" x2=\"492.32\" y2=\"130.1\" stroke-linecap=\"round\" style=\"stroke:white;stroke-width:1\"/><line x1=\"492.32\" y1=\"130.1\" x2=\"502.32\" y2=\"130.1\" stroke-linecap=\"round\" style=\"stroke:white;stroke-width:1\"/><line x1=\"400.0\" y1=\"270.0\" x2=\"405.0\" y2=\"261.34\" stroke-linecap=\"round\" style=\"stroke:white;stroke-width:1\"/><line x1=\"405.0\" y1=\"261.34\" x2=\"410.0\" y2=\"252.68\" stroke-linecap=\"round\" style=\"stroke:white;stroke-width:1\"/><line x1=\"410.0\" y1=\"252.68\" x2=\"415.0\" y2=\"244.02\" stroke-linecap=\"round\" style=\"stroke:white;stroke-width:1\"/><line x1=\"415.0\" y1=\"244.02\" x2=\"423.66\" y2=\"239.02\" stroke-linecap=\"round\" style=\"stroke:white;stroke-width:1\"/><line x1=\"423.66\" y1=\"239.02\" x2=\"432.32\" y2=\"234.02\" stroke-linecap=\"round\" style=\"stroke:white;stroke-width:1\"/><line x1=\"432.32\" y1=\"234.02\" x2=\"442.32\" y2=\"234.02\" stroke-linecap=\"round\" style=\"stroke:white;stroke-width:1\"/><line x1=\"415.0\" y1=\"244.02\" x2=\"420.0\" y2=\"235.36\" stroke-linecap=\"round\" style=\"stroke:white;stroke-width:1\"/><line x1=\"420.0\" y1=\"235.36\" x2=\"425.0\" y2=\"226.7\" stroke-linecap=\"round\" style=\"stroke:white;stroke-width:1\"/><line x1=\"425.0\" y1=\"226.7\" x2=\"433.66\" y2=\"221.7\" stroke-linecap=\"round\" style=\"stroke:white;stroke-width:1\"/><line x1=\"415.0\" y1=\"244.02\" x2=\"420.0\" y2=\"235.36\" stroke-linecap=\"round\" style=\"stroke:white;stroke-width:1\"/><line x1=\"420.0\" y1=\"235.36\" x2=\"425.0\" y2=\"226.7\" stroke-linecap=\"round\" style=\"stroke:white;stroke-width:1\"/><line x1=\"425.0\" y1=\"226.7\" x2=\"430.0\" y2=\"218.04\" stroke-linecap=\"round\" style=\"stroke:white;stroke-width:1\"/><line x1=\"430.0\" y1=\"218.04\" x2=\"438.66\" y2=\"213.04\" stroke-linecap=\"round\" style=\"stroke:white;stroke-width:1\"/><line x1=\"438.66\" y1=\"213.04\" x2=\"447.32\" y2=\"208.04\" stroke-linecap=\"round\" style=\"stroke:white;stroke-width:1\"/><line x1=\"447.32\" y1=\"208.04\" x2=\"455.98\" y2=\"203.04\" stroke-linecap=\"round\" style=\"stroke:white;stroke-width:1\"/><line x1=\"455.98\" y1=\"203.04\" x2=\"464.64\" y2=\"198.04\" stroke-linecap=\"round\" style=\"stroke:white;stroke-width:1\"/><line x1=\"464.64\" y1=\"198.04\" x2=\"473.3\" y2=\"193.04\" stroke-linecap=\"round\" style=\"stroke:white;stroke-width:1\"/><line x1=\"473.3\" y1=\"193.04\" x2=\"483.3\" y2=\"193.04\" stroke-linecap=\"round\" style=\"stroke:white;stroke-width:1\"/><line x1=\"430.0\" y1=\"218.04\" x2=\"438.66\" y2=\"213.04\" stroke-linecap=\"round\" style=\"stroke:white;stroke-width:1\"/><line x1=\"438.66\" y1=\"213.04\" x2=\"447.32\" y2=\"208.04\" stroke-linecap=\"round\" style=\"stroke:white;stroke-width:1\"/><line x1=\"447.32\" y1=\"208.04\" x2=\"457.32\" y2=\"208.04\" stroke-linecap=\"round\" style=\"stroke:white;stroke-width:1\"/>\n",
              "        <g visibility=hidden transform=\"rotate(90,447.32,208.04) translate(429.32, 190.04)\">\n",
              "<path style=\" stroke:none;fill-rule:evenodd;fill:white;fill-opacity:1;\" d=\"M 18.214844 0.632812 C 16.109375 1.800781 15.011719 4.074219 15.074219 7.132812 L 15.085938 7.652344 L 14.785156 7.496094 C 13.476562 6.824219 11.957031 6.671875 10.40625 7.066406 C 8.46875 7.550781 6.515625 9.15625 4.394531 11.992188 C 3.0625 13.777344 2.679688 14.636719 3.042969 15.027344 L 3.15625 15.152344 L 3.519531 15.152344 C 4.238281 15.152344 4.828125 14.886719 8.1875 13.039062 C 9.386719 12.378906 10.371094 11.839844 10.378906 11.839844 C 10.386719 11.839844 10.355469 11.929688 10.304688 12.035156 C 9.832031 13.09375 9.257812 14.820312 8.96875 16.078125 C 7.914062 20.652344 8.617188 24.53125 11.070312 27.660156 C 11.351562 28.015625 11.363281 27.914062 10.972656 28.382812 C 8.925781 30.84375 7.945312 33.28125 8.238281 35.1875 C 8.289062 35.527344 8.28125 35.523438 8.917969 35.523438 C 10.941406 35.523438 13.074219 34.207031 15.136719 31.6875 C 15.359375 31.417969 15.328125 31.425781 15.5625 31.574219 C 16.292969 32.042969 18.023438 32.964844 18.175781 32.964844 C 18.335938 32.964844 19.941406 32.210938 20.828125 31.71875 C 20.996094 31.625 21.136719 31.554688 21.136719 31.558594 C 21.203125 31.664062 21.898438 32.414062 22.222656 32.730469 C 23.835938 34.300781 25.5625 35.132812 27.582031 35.300781 C 27.90625 35.328125 27.9375 35.308594 28.007812 34.984375 C 28.382812 33.242188 27.625 30.925781 25.863281 28.425781 L 25.542969 27.96875 L 25.699219 27.785156 C 28.945312 23.960938 29.132812 18.699219 26.257812 11.96875 L 26.207031 11.84375 L 27.945312 12.703125 C 31.53125 14.476562 32.316406 14.800781 33.03125 14.800781 C 33.976562 14.800781 33.78125 13.9375 32.472656 12.292969 C 28.519531 7.355469 25.394531 5.925781 21.921875 7.472656 L 21.558594 7.636719 L 21.578125 7.542969 C 21.699219 6.992188 21.761719 5.742188 21.699219 5.164062 C 21.496094 3.296875 20.664062 1.964844 19.003906 0.855469 C 18.480469 0.503906 18.457031 0.5 18.214844 0.632812\"/>\n",
              "</g>\n",
              "      </svg>\n",
              "    "
            ]
          },
          "metadata": {}
        }
      ],
      "source": [
        "# Plant parameters\n",
        "plant_axiom = \"X\"\n",
        "plant_rules = {\n",
        "    \"X\": \"F+[[X]-X]-F[+FX]+X\",\n",
        "    \"F\": \"FFF\"\n",
        "}\n",
        "plant_iterations = 3\n",
        "plant_angle = 30\n",
        "\n",
        "# Generate and draw\n",
        "setup_turtle()\n",
        "t.pensize(1)\n",
        "plant_instructions = create_l_system(plant_iterations, plant_axiom, plant_rules)\n",
        "draw_l_system(plant_instructions, plant_angle, 10)"
      ]
    },
    {
      "cell_type": "markdown",
      "metadata": {
        "id": "MUV3yq9K_Yix"
      },
      "source": [
        "## Challenge: Create a Fractal Tree\n",
        "\n",
        "Now it's your turn to experiment! Below is a template for creating a fractal tree. Try modifying the parameters to create different tree shapes:"
      ]
    },
    {
      "cell_type": "code",
      "execution_count": 9,
      "metadata": {
        "id": "jLwqCSW-_Yix",
        "outputId": "2a685519-b07b-45e6-c7c7-9c5e521c0afc",
        "colab": {
          "base_uri": "https://localhost:8080/",
          "height": 522
        }
      },
      "outputs": [
        {
          "output_type": "display_data",
          "data": {
            "text/plain": [
              "<IPython.core.display.HTML object>"
            ],
            "text/html": [
              "\n",
              "      <svg width=\"800\" height=\"500\">\n",
              "        <rect width=\"100%\" height=\"100%\" fill=\"black\"/>\n",
              "        <line x1=\"400\" y1=\"450\" x2=\"400.0\" y2=\"440.0\" stroke-linecap=\"round\" style=\"stroke:white;stroke-width:2\"/><line x1=\"400.0\" y1=\"440.0\" x2=\"392.929\" y2=\"432.929\" stroke-linecap=\"round\" style=\"stroke:white;stroke-width:2\"/><line x1=\"400.0\" y1=\"440.0\" x2=\"400.0\" y2=\"430.0\" stroke-linecap=\"round\" style=\"stroke:white;stroke-width:2\"/><line x1=\"400.0\" y1=\"430.0\" x2=\"392.929\" y2=\"422.929\" stroke-linecap=\"round\" style=\"stroke:white;stroke-width:2\"/><line x1=\"400.0\" y1=\"430.0\" x2=\"400.0\" y2=\"420.0\" stroke-linecap=\"round\" style=\"stroke:white;stroke-width:2\"/><line x1=\"400.0\" y1=\"420.0\" x2=\"392.929\" y2=\"412.929\" stroke-linecap=\"round\" style=\"stroke:white;stroke-width:2\"/><line x1=\"392.929\" y1=\"412.929\" x2=\"382.929\" y2=\"412.929\" stroke-linecap=\"round\" style=\"stroke:white;stroke-width:2\"/><line x1=\"392.929\" y1=\"412.929\" x2=\"385.858\" y2=\"405.858\" stroke-linecap=\"round\" style=\"stroke:white;stroke-width:2\"/><line x1=\"385.858\" y1=\"405.858\" x2=\"375.858\" y2=\"405.858\" stroke-linecap=\"round\" style=\"stroke:white;stroke-width:2\"/><line x1=\"385.858\" y1=\"405.858\" x2=\"378.787\" y2=\"398.787\" stroke-linecap=\"round\" style=\"stroke:white;stroke-width:2\"/><line x1=\"400.0\" y1=\"420.0\" x2=\"400.0\" y2=\"410.0\" stroke-linecap=\"round\" style=\"stroke:white;stroke-width:2\"/><line x1=\"400.0\" y1=\"410.0\" x2=\"392.929\" y2=\"402.929\" stroke-linecap=\"round\" style=\"stroke:white;stroke-width:2\"/><line x1=\"400.0\" y1=\"410.0\" x2=\"400.0\" y2=\"400.0\" stroke-linecap=\"round\" style=\"stroke:white;stroke-width:2\"/><line x1=\"400.0\" y1=\"400.0\" x2=\"392.929\" y2=\"392.929\" stroke-linecap=\"round\" style=\"stroke:white;stroke-width:2\"/><line x1=\"400.0\" y1=\"400.0\" x2=\"400.0\" y2=\"390.0\" stroke-linecap=\"round\" style=\"stroke:white;stroke-width:2\"/><line x1=\"400.0\" y1=\"390.0\" x2=\"392.929\" y2=\"382.929\" stroke-linecap=\"round\" style=\"stroke:white;stroke-width:2\"/><line x1=\"392.929\" y1=\"382.929\" x2=\"382.929\" y2=\"382.929\" stroke-linecap=\"round\" style=\"stroke:white;stroke-width:2\"/><line x1=\"392.929\" y1=\"382.929\" x2=\"385.858\" y2=\"375.858\" stroke-linecap=\"round\" style=\"stroke:white;stroke-width:2\"/><line x1=\"385.858\" y1=\"375.858\" x2=\"375.858\" y2=\"375.858\" stroke-linecap=\"round\" style=\"stroke:white;stroke-width:2\"/><line x1=\"385.858\" y1=\"375.858\" x2=\"378.787\" y2=\"368.787\" stroke-linecap=\"round\" style=\"stroke:white;stroke-width:2\"/><line x1=\"400.0\" y1=\"390.0\" x2=\"400.0\" y2=\"380.0\" stroke-linecap=\"round\" style=\"stroke:white;stroke-width:2\"/><line x1=\"400.0\" y1=\"380.0\" x2=\"392.929\" y2=\"372.929\" stroke-linecap=\"round\" style=\"stroke:white;stroke-width:2\"/><line x1=\"400.0\" y1=\"380.0\" x2=\"400.0\" y2=\"370.0\" stroke-linecap=\"round\" style=\"stroke:white;stroke-width:2\"/><line x1=\"400.0\" y1=\"370.0\" x2=\"392.929\" y2=\"362.929\" stroke-linecap=\"round\" style=\"stroke:white;stroke-width:2\"/><line x1=\"400.0\" y1=\"370.0\" x2=\"400.0\" y2=\"360.0\" stroke-linecap=\"round\" style=\"stroke:white;stroke-width:2\"/><line x1=\"400.0\" y1=\"360.0\" x2=\"392.929\" y2=\"352.929\" stroke-linecap=\"round\" style=\"stroke:white;stroke-width:2\"/><line x1=\"392.929\" y1=\"352.929\" x2=\"382.929\" y2=\"352.929\" stroke-linecap=\"round\" style=\"stroke:white;stroke-width:2\"/><line x1=\"392.929\" y1=\"352.929\" x2=\"385.858\" y2=\"345.858\" stroke-linecap=\"round\" style=\"stroke:white;stroke-width:2\"/><line x1=\"385.858\" y1=\"345.858\" x2=\"375.858\" y2=\"345.858\" stroke-linecap=\"round\" style=\"stroke:white;stroke-width:2\"/><line x1=\"385.858\" y1=\"345.858\" x2=\"378.787\" y2=\"338.787\" stroke-linecap=\"round\" style=\"stroke:white;stroke-width:2\"/><line x1=\"378.787\" y1=\"338.787\" x2=\"368.787\" y2=\"338.787\" stroke-linecap=\"round\" style=\"stroke:white;stroke-width:2\"/><line x1=\"368.787\" y1=\"338.787\" x2=\"361.716\" y2=\"345.858\" stroke-linecap=\"round\" style=\"stroke:white;stroke-width:2\"/><line x1=\"368.787\" y1=\"338.787\" x2=\"358.787\" y2=\"338.787\" stroke-linecap=\"round\" style=\"stroke:white;stroke-width:2\"/><line x1=\"358.787\" y1=\"338.787\" x2=\"351.716\" y2=\"345.858\" stroke-linecap=\"round\" style=\"stroke:white;stroke-width:2\"/><line x1=\"358.787\" y1=\"338.787\" x2=\"348.787\" y2=\"338.787\" stroke-linecap=\"round\" style=\"stroke:white;stroke-width:2\"/><line x1=\"378.787\" y1=\"338.787\" x2=\"371.716\" y2=\"331.716\" stroke-linecap=\"round\" style=\"stroke:white;stroke-width:2\"/><line x1=\"371.716\" y1=\"331.716\" x2=\"361.716\" y2=\"331.716\" stroke-linecap=\"round\" style=\"stroke:white;stroke-width:2\"/><line x1=\"371.716\" y1=\"331.716\" x2=\"364.645\" y2=\"324.645\" stroke-linecap=\"round\" style=\"stroke:white;stroke-width:2\"/><line x1=\"364.645\" y1=\"324.645\" x2=\"354.645\" y2=\"324.645\" stroke-linecap=\"round\" style=\"stroke:white;stroke-width:2\"/><line x1=\"364.645\" y1=\"324.645\" x2=\"357.574\" y2=\"317.574\" stroke-linecap=\"round\" style=\"stroke:white;stroke-width:2\"/><line x1=\"357.574\" y1=\"317.574\" x2=\"347.574\" y2=\"317.574\" stroke-linecap=\"round\" style=\"stroke:white;stroke-width:2\"/><line x1=\"347.574\" y1=\"317.574\" x2=\"340.503\" y2=\"324.645\" stroke-linecap=\"round\" style=\"stroke:white;stroke-width:2\"/><line x1=\"347.574\" y1=\"317.574\" x2=\"337.574\" y2=\"317.574\" stroke-linecap=\"round\" style=\"stroke:white;stroke-width:2\"/><line x1=\"337.574\" y1=\"317.574\" x2=\"330.503\" y2=\"324.645\" stroke-linecap=\"round\" style=\"stroke:white;stroke-width:2\"/><line x1=\"337.574\" y1=\"317.574\" x2=\"327.574\" y2=\"317.574\" stroke-linecap=\"round\" style=\"stroke:white;stroke-width:2\"/><line x1=\"357.574\" y1=\"317.574\" x2=\"350.503\" y2=\"310.503\" stroke-linecap=\"round\" style=\"stroke:white;stroke-width:2\"/><line x1=\"350.503\" y1=\"310.503\" x2=\"340.503\" y2=\"310.503\" stroke-linecap=\"round\" style=\"stroke:white;stroke-width:2\"/><line x1=\"350.503\" y1=\"310.503\" x2=\"343.432\" y2=\"303.432\" stroke-linecap=\"round\" style=\"stroke:white;stroke-width:2\"/><line x1=\"343.432\" y1=\"303.432\" x2=\"333.432\" y2=\"303.432\" stroke-linecap=\"round\" style=\"stroke:white;stroke-width:2\"/><line x1=\"343.432\" y1=\"303.432\" x2=\"336.361\" y2=\"296.361\" stroke-linecap=\"round\" style=\"stroke:white;stroke-width:2\"/><line x1=\"400.0\" y1=\"360.0\" x2=\"400.0\" y2=\"350.0\" stroke-linecap=\"round\" style=\"stroke:white;stroke-width:2\"/><line x1=\"400.0\" y1=\"350.0\" x2=\"392.929\" y2=\"342.929\" stroke-linecap=\"round\" style=\"stroke:white;stroke-width:2\"/><line x1=\"400.0\" y1=\"350.0\" x2=\"400.0\" y2=\"340.0\" stroke-linecap=\"round\" style=\"stroke:white;stroke-width:2\"/><line x1=\"400.0\" y1=\"340.0\" x2=\"392.929\" y2=\"332.929\" stroke-linecap=\"round\" style=\"stroke:white;stroke-width:2\"/><line x1=\"400.0\" y1=\"340.0\" x2=\"400.0\" y2=\"330.0\" stroke-linecap=\"round\" style=\"stroke:white;stroke-width:2\"/><line x1=\"400.0\" y1=\"330.0\" x2=\"392.929\" y2=\"322.929\" stroke-linecap=\"round\" style=\"stroke:white;stroke-width:2\"/><line x1=\"392.929\" y1=\"322.929\" x2=\"382.929\" y2=\"322.929\" stroke-linecap=\"round\" style=\"stroke:white;stroke-width:2\"/><line x1=\"392.929\" y1=\"322.929\" x2=\"385.858\" y2=\"315.858\" stroke-linecap=\"round\" style=\"stroke:white;stroke-width:2\"/><line x1=\"385.858\" y1=\"315.858\" x2=\"375.858\" y2=\"315.858\" stroke-linecap=\"round\" style=\"stroke:white;stroke-width:2\"/><line x1=\"385.858\" y1=\"315.858\" x2=\"378.787\" y2=\"308.787\" stroke-linecap=\"round\" style=\"stroke:white;stroke-width:2\"/><line x1=\"400.0\" y1=\"330.0\" x2=\"400.0\" y2=\"320.0\" stroke-linecap=\"round\" style=\"stroke:white;stroke-width:2\"/><line x1=\"400.0\" y1=\"320.0\" x2=\"392.929\" y2=\"312.929\" stroke-linecap=\"round\" style=\"stroke:white;stroke-width:2\"/><line x1=\"400.0\" y1=\"320.0\" x2=\"400.0\" y2=\"310.0\" stroke-linecap=\"round\" style=\"stroke:white;stroke-width:2\"/><line x1=\"400.0\" y1=\"310.0\" x2=\"392.929\" y2=\"302.929\" stroke-linecap=\"round\" style=\"stroke:white;stroke-width:2\"/><line x1=\"400.0\" y1=\"310.0\" x2=\"400.0\" y2=\"300.0\" stroke-linecap=\"round\" style=\"stroke:white;stroke-width:2\"/><line x1=\"400.0\" y1=\"300.0\" x2=\"392.929\" y2=\"292.929\" stroke-linecap=\"round\" style=\"stroke:white;stroke-width:2\"/><line x1=\"392.929\" y1=\"292.929\" x2=\"382.929\" y2=\"292.929\" stroke-linecap=\"round\" style=\"stroke:white;stroke-width:2\"/><line x1=\"392.929\" y1=\"292.929\" x2=\"385.858\" y2=\"285.858\" stroke-linecap=\"round\" style=\"stroke:white;stroke-width:2\"/><line x1=\"385.858\" y1=\"285.858\" x2=\"375.858\" y2=\"285.858\" stroke-linecap=\"round\" style=\"stroke:white;stroke-width:2\"/><line x1=\"385.858\" y1=\"285.858\" x2=\"378.787\" y2=\"278.787\" stroke-linecap=\"round\" style=\"stroke:white;stroke-width:2\"/><line x1=\"400.0\" y1=\"300.0\" x2=\"400.0\" y2=\"290.0\" stroke-linecap=\"round\" style=\"stroke:white;stroke-width:2\"/><line x1=\"400.0\" y1=\"290.0\" x2=\"392.929\" y2=\"282.929\" stroke-linecap=\"round\" style=\"stroke:white;stroke-width:2\"/><line x1=\"400.0\" y1=\"290.0\" x2=\"400.0\" y2=\"280.0\" stroke-linecap=\"round\" style=\"stroke:white;stroke-width:2\"/><line x1=\"400.0\" y1=\"280.0\" x2=\"392.929\" y2=\"272.929\" stroke-linecap=\"round\" style=\"stroke:white;stroke-width:2\"/><line x1=\"400.0\" y1=\"280.0\" x2=\"400.0\" y2=\"270.0\" stroke-linecap=\"round\" style=\"stroke:white;stroke-width:2\"/><line x1=\"400.0\" y1=\"270.0\" x2=\"392.929\" y2=\"262.929\" stroke-linecap=\"round\" style=\"stroke:white;stroke-width:2\"/><line x1=\"392.929\" y1=\"262.929\" x2=\"382.929\" y2=\"262.929\" stroke-linecap=\"round\" style=\"stroke:white;stroke-width:2\"/><line x1=\"392.929\" y1=\"262.929\" x2=\"385.858\" y2=\"255.858\" stroke-linecap=\"round\" style=\"stroke:white;stroke-width:2\"/><line x1=\"385.858\" y1=\"255.858\" x2=\"375.858\" y2=\"255.858\" stroke-linecap=\"round\" style=\"stroke:white;stroke-width:2\"/><line x1=\"385.858\" y1=\"255.858\" x2=\"378.787\" y2=\"248.787\" stroke-linecap=\"round\" style=\"stroke:white;stroke-width:2\"/><line x1=\"378.787\" y1=\"248.787\" x2=\"368.787\" y2=\"248.787\" stroke-linecap=\"round\" style=\"stroke:white;stroke-width:2\"/><line x1=\"368.787\" y1=\"248.787\" x2=\"361.716\" y2=\"255.858\" stroke-linecap=\"round\" style=\"stroke:white;stroke-width:2\"/><line x1=\"368.787\" y1=\"248.787\" x2=\"358.787\" y2=\"248.787\" stroke-linecap=\"round\" style=\"stroke:white;stroke-width:2\"/><line x1=\"358.787\" y1=\"248.787\" x2=\"351.716\" y2=\"255.858\" stroke-linecap=\"round\" style=\"stroke:white;stroke-width:2\"/><line x1=\"358.787\" y1=\"248.787\" x2=\"348.787\" y2=\"248.787\" stroke-linecap=\"round\" style=\"stroke:white;stroke-width:2\"/><line x1=\"378.787\" y1=\"248.787\" x2=\"371.716\" y2=\"241.716\" stroke-linecap=\"round\" style=\"stroke:white;stroke-width:2\"/><line x1=\"371.716\" y1=\"241.716\" x2=\"361.716\" y2=\"241.716\" stroke-linecap=\"round\" style=\"stroke:white;stroke-width:2\"/><line x1=\"371.716\" y1=\"241.716\" x2=\"364.645\" y2=\"234.645\" stroke-linecap=\"round\" style=\"stroke:white;stroke-width:2\"/><line x1=\"364.645\" y1=\"234.645\" x2=\"354.645\" y2=\"234.645\" stroke-linecap=\"round\" style=\"stroke:white;stroke-width:2\"/><line x1=\"364.645\" y1=\"234.645\" x2=\"357.574\" y2=\"227.574\" stroke-linecap=\"round\" style=\"stroke:white;stroke-width:2\"/><line x1=\"357.574\" y1=\"227.574\" x2=\"347.574\" y2=\"227.574\" stroke-linecap=\"round\" style=\"stroke:white;stroke-width:2\"/><line x1=\"347.574\" y1=\"227.574\" x2=\"340.503\" y2=\"234.645\" stroke-linecap=\"round\" style=\"stroke:white;stroke-width:2\"/><line x1=\"347.574\" y1=\"227.574\" x2=\"337.574\" y2=\"227.574\" stroke-linecap=\"round\" style=\"stroke:white;stroke-width:2\"/><line x1=\"337.574\" y1=\"227.574\" x2=\"330.503\" y2=\"234.645\" stroke-linecap=\"round\" style=\"stroke:white;stroke-width:2\"/><line x1=\"337.574\" y1=\"227.574\" x2=\"327.574\" y2=\"227.574\" stroke-linecap=\"round\" style=\"stroke:white;stroke-width:2\"/><line x1=\"357.574\" y1=\"227.574\" x2=\"350.503\" y2=\"220.503\" stroke-linecap=\"round\" style=\"stroke:white;stroke-width:2\"/><line x1=\"350.503\" y1=\"220.503\" x2=\"340.503\" y2=\"220.503\" stroke-linecap=\"round\" style=\"stroke:white;stroke-width:2\"/><line x1=\"350.503\" y1=\"220.503\" x2=\"343.432\" y2=\"213.432\" stroke-linecap=\"round\" style=\"stroke:white;stroke-width:2\"/><line x1=\"343.432\" y1=\"213.432\" x2=\"333.432\" y2=\"213.432\" stroke-linecap=\"round\" style=\"stroke:white;stroke-width:2\"/><line x1=\"343.432\" y1=\"213.432\" x2=\"336.361\" y2=\"206.361\" stroke-linecap=\"round\" style=\"stroke:white;stroke-width:2\"/><line x1=\"400.0\" y1=\"270.0\" x2=\"400.0\" y2=\"260.0\" stroke-linecap=\"round\" style=\"stroke:white;stroke-width:2\"/><line x1=\"400.0\" y1=\"260.0\" x2=\"392.929\" y2=\"252.929\" stroke-linecap=\"round\" style=\"stroke:white;stroke-width:2\"/><line x1=\"400.0\" y1=\"260.0\" x2=\"400.0\" y2=\"250.0\" stroke-linecap=\"round\" style=\"stroke:white;stroke-width:2\"/><line x1=\"400.0\" y1=\"250.0\" x2=\"392.929\" y2=\"242.929\" stroke-linecap=\"round\" style=\"stroke:white;stroke-width:2\"/><line x1=\"400.0\" y1=\"250.0\" x2=\"400.0\" y2=\"240.0\" stroke-linecap=\"round\" style=\"stroke:white;stroke-width:2\"/><line x1=\"400.0\" y1=\"240.0\" x2=\"392.929\" y2=\"232.929\" stroke-linecap=\"round\" style=\"stroke:white;stroke-width:2\"/><line x1=\"392.929\" y1=\"232.929\" x2=\"382.929\" y2=\"232.929\" stroke-linecap=\"round\" style=\"stroke:white;stroke-width:2\"/><line x1=\"392.929\" y1=\"232.929\" x2=\"385.858\" y2=\"225.858\" stroke-linecap=\"round\" style=\"stroke:white;stroke-width:2\"/><line x1=\"385.858\" y1=\"225.858\" x2=\"375.858\" y2=\"225.858\" stroke-linecap=\"round\" style=\"stroke:white;stroke-width:2\"/><line x1=\"385.858\" y1=\"225.858\" x2=\"378.787\" y2=\"218.787\" stroke-linecap=\"round\" style=\"stroke:white;stroke-width:2\"/><line x1=\"400.0\" y1=\"240.0\" x2=\"400.0\" y2=\"230.0\" stroke-linecap=\"round\" style=\"stroke:white;stroke-width:2\"/><line x1=\"400.0\" y1=\"230.0\" x2=\"392.929\" y2=\"222.929\" stroke-linecap=\"round\" style=\"stroke:white;stroke-width:2\"/><line x1=\"400.0\" y1=\"230.0\" x2=\"400.0\" y2=\"220.0\" stroke-linecap=\"round\" style=\"stroke:white;stroke-width:2\"/><line x1=\"400.0\" y1=\"220.0\" x2=\"392.929\" y2=\"212.929\" stroke-linecap=\"round\" style=\"stroke:white;stroke-width:2\"/><line x1=\"400.0\" y1=\"220.0\" x2=\"400.0\" y2=\"210.0\" stroke-linecap=\"round\" style=\"stroke:white;stroke-width:2\"/><line x1=\"400.0\" y1=\"210.0\" x2=\"392.929\" y2=\"202.929\" stroke-linecap=\"round\" style=\"stroke:white;stroke-width:2\"/><line x1=\"392.929\" y1=\"202.929\" x2=\"382.929\" y2=\"202.929\" stroke-linecap=\"round\" style=\"stroke:white;stroke-width:2\"/><line x1=\"392.929\" y1=\"202.929\" x2=\"385.858\" y2=\"195.858\" stroke-linecap=\"round\" style=\"stroke:white;stroke-width:2\"/><line x1=\"385.858\" y1=\"195.858\" x2=\"375.858\" y2=\"195.858\" stroke-linecap=\"round\" style=\"stroke:white;stroke-width:2\"/><line x1=\"385.858\" y1=\"195.858\" x2=\"378.787\" y2=\"188.787\" stroke-linecap=\"round\" style=\"stroke:white;stroke-width:2\"/><line x1=\"400.0\" y1=\"210.0\" x2=\"400.0\" y2=\"200.0\" stroke-linecap=\"round\" style=\"stroke:white;stroke-width:2\"/><line x1=\"400.0\" y1=\"200.0\" x2=\"392.929\" y2=\"192.929\" stroke-linecap=\"round\" style=\"stroke:white;stroke-width:2\"/><line x1=\"400.0\" y1=\"200.0\" x2=\"400.0\" y2=\"190.0\" stroke-linecap=\"round\" style=\"stroke:white;stroke-width:2\"/><line x1=\"400.0\" y1=\"190.0\" x2=\"392.929\" y2=\"182.929\" stroke-linecap=\"round\" style=\"stroke:white;stroke-width:2\"/><line x1=\"400.0\" y1=\"190.0\" x2=\"400.0\" y2=\"180.0\" stroke-linecap=\"round\" style=\"stroke:white;stroke-width:2\"/>\n",
              "        <g visibility=hidden transform=\"rotate(360,400.0,180.0) translate(382.0, 162.0)\">\n",
              "<path style=\" stroke:none;fill-rule:evenodd;fill:white;fill-opacity:1;\" d=\"M 18.214844 0.632812 C 16.109375 1.800781 15.011719 4.074219 15.074219 7.132812 L 15.085938 7.652344 L 14.785156 7.496094 C 13.476562 6.824219 11.957031 6.671875 10.40625 7.066406 C 8.46875 7.550781 6.515625 9.15625 4.394531 11.992188 C 3.0625 13.777344 2.679688 14.636719 3.042969 15.027344 L 3.15625 15.152344 L 3.519531 15.152344 C 4.238281 15.152344 4.828125 14.886719 8.1875 13.039062 C 9.386719 12.378906 10.371094 11.839844 10.378906 11.839844 C 10.386719 11.839844 10.355469 11.929688 10.304688 12.035156 C 9.832031 13.09375 9.257812 14.820312 8.96875 16.078125 C 7.914062 20.652344 8.617188 24.53125 11.070312 27.660156 C 11.351562 28.015625 11.363281 27.914062 10.972656 28.382812 C 8.925781 30.84375 7.945312 33.28125 8.238281 35.1875 C 8.289062 35.527344 8.28125 35.523438 8.917969 35.523438 C 10.941406 35.523438 13.074219 34.207031 15.136719 31.6875 C 15.359375 31.417969 15.328125 31.425781 15.5625 31.574219 C 16.292969 32.042969 18.023438 32.964844 18.175781 32.964844 C 18.335938 32.964844 19.941406 32.210938 20.828125 31.71875 C 20.996094 31.625 21.136719 31.554688 21.136719 31.558594 C 21.203125 31.664062 21.898438 32.414062 22.222656 32.730469 C 23.835938 34.300781 25.5625 35.132812 27.582031 35.300781 C 27.90625 35.328125 27.9375 35.308594 28.007812 34.984375 C 28.382812 33.242188 27.625 30.925781 25.863281 28.425781 L 25.542969 27.96875 L 25.699219 27.785156 C 28.945312 23.960938 29.132812 18.699219 26.257812 11.96875 L 26.207031 11.84375 L 27.945312 12.703125 C 31.53125 14.476562 32.316406 14.800781 33.03125 14.800781 C 33.976562 14.800781 33.78125 13.9375 32.472656 12.292969 C 28.519531 7.355469 25.394531 5.925781 21.921875 7.472656 L 21.558594 7.636719 L 21.578125 7.542969 C 21.699219 6.992188 21.761719 5.742188 21.699219 5.164062 C 21.496094 3.296875 20.664062 1.964844 19.003906 0.855469 C 18.480469 0.503906 18.457031 0.5 18.214844 0.632812\"/>\n",
              "</g>\n",
              "      </svg>\n",
              "    "
            ]
          },
          "metadata": {}
        }
      ],
      "source": [
        "# Your fractal tree parameters\n",
        "tree_axiom = \"F\"  # Start with a single trunk\n",
        "tree_rules = {\"F\": \"F[-F]F[-F]F\"}  # Basic branching rule\n",
        "tree_iterations = 3\n",
        "tree_angle = 45\n",
        "\n",
        "# Generate and draw\n",
        "setup_turtle()\n",
        "t.pensize(2)\n",
        "tree_instructions = create_l_system(tree_iterations, tree_axiom, tree_rules)\n",
        "draw_l_system(tree_instructions, tree_angle, 10)"
      ]
    },
    {
      "cell_type": "markdown",
      "metadata": {
        "id": "g8QHZUdN_Yix"
      },
      "source": [
        "### Challenge Tasks:\n",
        "1. Modify the rules to create more realistic branching\n",
        "2. Add different colors for different parts of the tree\n",
        "3. Try to create a tree with varying branch lengths\n",
        "4. Experiment with asymmetric branching patterns\n",
        "\n",
        "## Additional Experiments\n",
        "Here are some ideas for further exploration:\n",
        "- Create a snowflake pattern\n",
        "- Generate a spiral pattern\n",
        "- Implement a dragon curve\n",
        "- Create a forest of different trees\n",
        "\n",
        "Tips:\n",
        "- Higher iterations create more complex patterns but take longer to draw\n",
        "- Small changes in rules can create dramatically different results\n",
        "- The angle parameter greatly affects the final appearance\n",
        "- Remember to close turtle windows between experiments"
      ]
    }
  ],
  "metadata": {
    "kernelspec": {
      "display_name": "iat460",
      "language": "python",
      "name": "python3"
    },
    "language_info": {
      "codemirror_mode": {
        "name": "ipython",
        "version": 3
      },
      "file_extension": ".py",
      "mimetype": "text/x-python",
      "name": "python",
      "nbconvert_exporter": "python",
      "pygments_lexer": "ipython3",
      "version": "3.9.21"
    },
    "colab": {
      "provenance": []
    }
  },
  "nbformat": 4,
  "nbformat_minor": 0
}